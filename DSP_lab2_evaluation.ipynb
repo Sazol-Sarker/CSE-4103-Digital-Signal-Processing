{
  "nbformat": 4,
  "nbformat_minor": 0,
  "metadata": {
    "colab": {
      "provenance": []
    },
    "kernelspec": {
      "name": "python3",
      "display_name": "Python 3"
    },
    "language_info": {
      "name": "python"
    }
  },
  "cells": [
    {
      "cell_type": "code",
      "execution_count": null,
      "metadata": {
        "id": "vUFpaRZDR1sL"
      },
      "outputs": [],
      "source": [
        "import numpy as np\n",
        "import matplotlib.pyplot as plt\n",
        "from matplotlib import style"
      ]
    },
    {
      "cell_type": "markdown",
      "source": [
        "**Generate unit step,unit sample,...draw**"
      ],
      "metadata": {
        "id": "TBq-iSv7SJNF"
      }
    },
    {
      "cell_type": "code",
      "source": [
        "#unit sample\n",
        "n=[-3,-2,0,1,2,3,5,7]\n",
        "un=[]\n",
        "for x in n:\n",
        "  if x==0:\n",
        "    un.append(1)\n",
        "  else:\n",
        "    un.append(0)\n",
        "plt.xticks(n)\n",
        "plt.yticks(un)\n",
        "plt.stem(n,un)\n",
        "plt.show()"
      ],
      "metadata": {
        "id": "iTCUAzhTWHLy",
        "colab": {
          "base_uri": "https://localhost:8080/",
          "height": 320
        },
        "outputId": "3ef3ffdf-ccbd-4b42-e133-b837d2f1e5be"
      },
      "execution_count": null,
      "outputs": [
        {
          "output_type": "stream",
          "name": "stderr",
          "text": [
            "/usr/local/lib/python3.7/dist-packages/ipykernel_launcher.py:11: UserWarning: In Matplotlib 3.3 individual lines on a stem plot will be added as a LineCollection instead of individual lines. This significantly improves the performance of a stem plot. To remove this warning and switch to the new behaviour, set the \"use_line_collection\" keyword argument to True.\n",
            "  # This is added back by InteractiveShellApp.init_path()\n"
          ]
        },
        {
          "output_type": "display_data",
          "data": {
            "text/plain": [
              "<Figure size 432x288 with 1 Axes>"
            ],
            "image/png": "[encoded data removed]"
          },
          "metadata": {
            "needs_background": "light"
          }
        }
      ]
    },
    {
      "cell_type": "code",
      "source": [
        "#unit step\n",
        "n=[-3,-2,0,1,2,3,5,7]\n",
        "un=[]\n",
        "for x in n:\n",
        "  if x>=0:\n",
        "    un.append(1)\n",
        "  else:\n",
        "    un.append(0)\n",
        "plt.xticks(n)\n",
        "plt.yticks(un)\n",
        "plt.stem(n,un)\n",
        "plt.show()"
      ],
      "metadata": {
        "id": "JwNPrZ02Tn4K",
        "colab": {
          "base_uri": "https://localhost:8080/",
          "height": 320
        },
        "outputId": "b349741d-648e-4912-9f64-afc9179f4663"
      },
      "execution_count": null,
      "outputs": [
        {
          "output_type": "stream",
          "name": "stderr",
          "text": [
            "/usr/local/lib/python3.7/dist-packages/ipykernel_launcher.py:11: UserWarning: In Matplotlib 3.3 individual lines on a stem plot will be added as a LineCollection instead of individual lines. This significantly improves the performance of a stem plot. To remove this warning and switch to the new behaviour, set the \"use_line_collection\" keyword argument to True.\n",
            "  # This is added back by InteractiveShellApp.init_path()\n"
          ]
        },
        {
          "output_type": "display_data",
          "data": {
            "text/plain": [
              "<Figure size 432x288 with 1 Axes>"
            ],
            "image/png": "[encoded data removed]"
          },
          "metadata": {
            "needs_background": "light"
          }
        }
      ]
    },
    {
      "cell_type": "code",
      "source": [
        "#unit ramp\n",
        "n=[-5,-3,-2,0,1,2,3,5,7]\n",
        "un=[]\n",
        "for x in n:\n",
        "  if x>=0:\n",
        "    un.append(x)\n",
        "  else:\n",
        "    un.append(0)\n",
        "plt.xticks(n)\n",
        "plt.yticks(un)\n",
        "plt.stem(n,un)\n",
        "plt.show()\n",
        "\n",
        "\n"
      ],
      "metadata": {
        "id": "EUV6GQJsSlY0",
        "colab": {
          "base_uri": "https://localhost:8080/",
          "height": 320
        },
        "outputId": "dea4c776-c739-402d-a716-a5104c7ac8b8"
      },
      "execution_count": null,
      "outputs": [
        {
          "output_type": "stream",
          "name": "stderr",
          "text": [
            "/usr/local/lib/python3.7/dist-packages/ipykernel_launcher.py:11: UserWarning: In Matplotlib 3.3 individual lines on a stem plot will be added as a LineCollection instead of individual lines. This significantly improves the performance of a stem plot. To remove this warning and switch to the new behaviour, set the \"use_line_collection\" keyword argument to True.\n",
            "  # This is added back by InteractiveShellApp.init_path()\n"
          ]
        },
        {
          "output_type": "display_data",
          "data": {
            "text/plain": [
              "<Figure size 432x288 with 1 Axes>"
            ],
            "image/png": "[encoded data removed]"
          },
          "metadata": {
            "needs_background": "light"
          }
        }
      ]
    },
    {
      "cell_type": "code",
      "source": [
        "#flip\n",
        "n=[-3,-2,-1,0,1,2,3,5,7]\n",
        "un=[]\n",
        "for x in reversed(n):\n",
        "    un.append(x)\n",
        " \n",
        "print(un)\n",
        "plt.stem(un)\n",
        "plt.show()"
      ],
      "metadata": {
        "id": "ASfxfq6tXaLk",
        "colab": {
          "base_uri": "https://localhost:8080/",
          "height": 337
        },
        "outputId": "8404e719-53bc-4fd5-9ef8-27a4935fba5d"
      },
      "execution_count": null,
      "outputs": [
        {
          "output_type": "stream",
          "name": "stdout",
          "text": [
            "[7, 5, 3, 2, 1, 0, -1, -2, -3]\n"
          ]
        },
        {
          "output_type": "stream",
          "name": "stderr",
          "text": [
            "/usr/local/lib/python3.7/dist-packages/ipykernel_launcher.py:8: UserWarning: In Matplotlib 3.3 individual lines on a stem plot will be added as a LineCollection instead of individual lines. This significantly improves the performance of a stem plot. To remove this warning and switch to the new behaviour, set the \"use_line_collection\" keyword argument to True.\n",
            "  \n"
          ]
        },
        {
          "output_type": "display_data",
          "data": {
            "text/plain": [
              "<Figure size 432x288 with 1 Axes>"
            ],
            "image/png": "[encoded data removed]"
          },
          "metadata": {
            "needs_background": "light"
          }
        }
      ]
    },
    {
      "cell_type": "code",
      "source": [
        "#shift x(n-3)\n",
        "pnt=[0,0,1,2,-3,4,5,-7,-1,8,1,9,0,2,-3,0,0]\n",
        "un=[]\n",
        "\n",
        "pnt_len=len(pnt)\n",
        "print(pnt)\n",
        "print(pnt_len)\n",
        "indx=0\n",
        "for p in range(pnt_len):\n",
        "    if indx>=3 and indx<pnt_len:\n",
        "      un.append(pnt[p])\n",
        "    indx+=1\n",
        "un_len=len(un)\n",
        "diff=pnt_len-un_len\n",
        "for i in range(diff):\n",
        "  un.append(0)\n",
        " \n",
        "#print(un_len)\n",
        "print(un)\n",
        "\n",
        "plt.stem(un)\n",
        "plt.show()"
      ],
      "metadata": {
        "id": "CB4Of-8Jl2yp",
        "colab": {
          "base_uri": "https://localhost:8080/",
          "height": 354
        },
        "outputId": "cdeec85c-a1e8-4a10-ae11-bc3898b715ea"
      },
      "execution_count": null,
      "outputs": [
        {
          "output_type": "stream",
          "name": "stdout",
          "text": [
            "[0, 0, 1, 2, -3, 4, 5, -7, -1, 8, 1, 9, 0, 2, -3, 0, 0]\n",
            "17\n",
            "[2, -3, 4, 5, -7, -1, 8, 1, 9, 0, 2, -3, 0, 0, 0, 0, 0]\n"
          ]
        },
        {
          "output_type": "stream",
          "name": "stderr",
          "text": [
            "/usr/local/lib/python3.7/dist-packages/ipykernel_launcher.py:21: UserWarning: In Matplotlib 3.3 individual lines on a stem plot will be added as a LineCollection instead of individual lines. This significantly improves the performance of a stem plot. To remove this warning and switch to the new behaviour, set the \"use_line_collection\" keyword argument to True.\n"
          ]
        },
        {
          "output_type": "display_data",
          "data": {
            "text/plain": [
              "<Figure size 432x288 with 1 Axes>"
            ],
            "image/png": "[encoded data removed]"
          },
          "metadata": {
            "needs_background": "light"
          }
        }
      ]
    }
  ]
}