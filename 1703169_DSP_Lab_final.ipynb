{
  "nbformat": 4,
  "nbformat_minor": 0,
  "metadata": {
    "colab": {
      "provenance": []
    },
    "kernelspec": {
      "name": "python3",
      "display_name": "Python 3"
    },
    "language_info": {
      "name": "python"
    }
  },
  "cells": [
    {
      "cell_type": "markdown",
      "source": [
        "# **ROLL: 1703169**"
      ],
      "metadata": {
        "id": "TcBC_m2R5eZg"
      }
    },
    {
      "cell_type": "code",
      "execution_count": null,
      "metadata": {
        "id": "O9cfPwRvsl6H"
      },
      "outputs": [],
      "source": [
        "import numpy as np\n",
        "import matplotlib.pyplot as plt\n",
        "from matplotlib import style"
      ]
    },
    {
      "cell_type": "markdown",
      "source": [
        "**Unit sample sequence**"
      ],
      "metadata": {
        "id": "gIBzDtE80X1J"
      }
    },
    {
      "cell_type": "code",
      "source": [
        "#task1\n",
        "xn=[-5,-4,-3,-2,-1,1,0,1,2,3,4,5]\n",
        "\n",
        "un=[]\n",
        "for i in xn:\n",
        "  if i==0:\n",
        "    un.append(1)\n",
        "  else:\n",
        "    un.append(0)\n",
        "\n",
        "print(un)\n",
        "plt.xticks(xn)\n",
        "plt.yticks(un)\n",
        "plt.stem(xn,un)\n",
        "plt.show()"
      ],
      "metadata": {
        "colab": {
          "base_uri": "https://localhost:8080/",
          "height": 337
        },
        "id": "oCN1w5Y-sy9J",
        "outputId": "481d6791-80eb-40fc-8d6d-5c0f39e4af29"
      },
      "execution_count": null,
      "outputs": [
        {
          "output_type": "stream",
          "name": "stdout",
          "text": [
            "[0, 0, 0, 0, 0, 0, 1, 0, 0, 0, 0, 0]\n"
          ]
        },
        {
          "output_type": "stream",
          "name": "stderr",
          "text": [
            "<ipython-input-20-98b379d0e3df>:14: UserWarning: In Matplotlib 3.3 individual lines on a stem plot will be added as a LineCollection instead of individual lines. This significantly improves the performance of a stem plot. To remove this warning and switch to the new behaviour, set the \"use_line_collection\" keyword argument to True.\n",
            "  plt.stem(xn,un)\n"
          ]
        },
        {
          "output_type": "display_data",
          "data": {
            "text/plain": [
              "<Figure size 432x288 with 1 Axes>"
            ],
            "image/png": "[encoded data removed]"
          },
          "metadata": {
            "needs_background": "light"
          }
        }
      ]
    },
    {
      "cell_type": "markdown",
      "source": [
        "**Correlation**"
      ],
      "metadata": {
        "id": "KK0565Ny0dSq"
      }
    },
    {
      "cell_type": "code",
      "source": [
        "#task2\n",
        "xn=[1,2,4,3]\n",
        "hn=[2,1,3,4]\n",
        "ln1=len(xn)\n",
        "ln2=len(hn)\n",
        "or1=1 #origin at 1\n",
        "or2=1 #origin at 1\n",
        "\n",
        "cor=[]\n",
        "for i in range(ln1):\n",
        "  arr=[]\n",
        "  for j in range(ln2):\n",
        "    d=xn[i]*hn[j]\n",
        "    arr.append(d)\n",
        "  cor.append(arr)\n",
        "\n",
        "print(\"Correlation Matrix:\",cor)\n"
      ],
      "metadata": {
        "colab": {
          "base_uri": "https://localhost:8080/"
        },
        "id": "OrmUZXVT0bBN",
        "outputId": "20be61c8-9d8c-4491-8723-10ed0c690c4d"
      },
      "execution_count": null,
      "outputs": [
        {
          "output_type": "stream",
          "name": "stdout",
          "text": [
            "Correlation Matrix: [[2, 1, 3, 4], [4, 2, 6, 8], [8, 4, 12, 16], [6, 3, 9, 12]]\n"
          ]
        }
      ]
    },
    {
      "cell_type": "code",
      "source": [
        "cor_ans=[]\n",
        "coree_ori=-1\n",
        "ori_ind=-1\n",
        "\n",
        "for i in range(ln1):\n",
        "  rw=i \n",
        "  col=j\n",
        "  val=0 \n",
        "  while rw>=0 and col>=0:\n",
        "    if rw==or1 and col==or2:\n",
        "      coree_ori=1\n",
        "    val+=cor[rw][col]\n",
        "    rw-=1 \n",
        "    col-=1\n",
        "  cor_ans.append(val)\n",
        "  if coree_ori==1:\n",
        "    ori_ind=i\n",
        "    coree_ori=-1\n",
        "print(cor_ans)\n",
        "\n",
        "for i in range(ln2-2,-1,-1):\n",
        "  rw=ln1-1 \n",
        "  col=i\n",
        "  val=0 \n",
        "  while  col>=0:\n",
        "    if rw==or1 and col==or2:\n",
        "      coree_ori=1\n",
        "    val+=cor[rw][col]\n",
        "    rw-=1 \n",
        "    col-=1\n",
        "  cor_ans.append(val)\n",
        "  if coree_ori==1:\n",
        "    ori_ind=i\n",
        "    coree_ori=-1\n",
        "\n",
        "print(\"Correlation: \",cor_ans)\n",
        "print(\"correlation origin: \",ori_ind)\n",
        "\n",
        "print(\"value at correlation origin: \",cor_ans[ori_ind])\n"
      ],
      "metadata": {
        "colab": {
          "base_uri": "https://localhost:8080/"
        },
        "id": "WX6efPF7s0eJ",
        "outputId": "9efdbea2-9a49-4bb5-d40b-0d7e4009e6ff"
      },
      "execution_count": null,
      "outputs": [
        {
          "output_type": "stream",
          "name": "stdout",
          "text": [
            "[4, 11, 23, 28]\n",
            "Correlation:  [4, 11, 23, 28, 17, 11, 6]\n",
            "correlation origin:  3\n",
            "value at correlation origin:  28\n"
          ]
        }
      ]
    }
  ]
}